{
  "nbformat": 4,
  "nbformat_minor": 0,
  "metadata": {
    "colab": {
      "provenance": []
    },
    "kernelspec": {
      "name": "python3",
      "display_name": "Python 3"
    },
    "language_info": {
      "name": "python"
    }
  },
  "cells": [
    {
      "cell_type": "code",
      "execution_count": 1,
      "metadata": {
        "colab": {
          "base_uri": "https://localhost:8080/"
        },
        "id": "j4mqyHepi_S9",
        "outputId": "61b21bd3-7f51-427a-d2b6-6b696b9cd7f2"
      },
      "outputs": [
        {
          "output_type": "stream",
          "name": "stdout",
          "text": [
            "Enter a string: python\n",
            "Reversed string: noht\n"
          ]
        }
      ],
      "source": [
        "input_string = input(\"Enter a string: \")\n",
        "if len(input_string) < 2:\n",
        "    print(\"Input string must have at least 2 characters.\")\n",
        "else:\n",
        "    modified_string = input_string[2:]\n",
        "\n",
        "    reversed_string = modified_string[::-1]\n",
        "\n",
        "    print(\"Reversed string:\", reversed_string)"
      ]
    },
    {
      "cell_type": "code",
      "source": [
        "num1 = float(input(\"Enter first number\"))\n",
        "num2 = float(input(\"eneter second number\"))\n",
        "print(\"Addition:\", num1+num2)\n",
        "print(\"Subtraction:\", num1-num2)\n",
        "print(\"Multiplication:\", num1*num2)\n",
        "print(\"Division:\", num1/num2)"
      ],
      "metadata": {
        "colab": {
          "base_uri": "https://localhost:8080/"
        },
        "id": "LXkDBGkIjtQm",
        "outputId": "d76359cd-9f40-412f-e6f1-f07a75f9134d"
      },
      "execution_count": 2,
      "outputs": [
        {
          "output_type": "stream",
          "name": "stdout",
          "text": [
            "Enter first number46\n",
            "eneter second number47\n",
            "Addition: 93.0\n",
            "Subtraction: -1.0\n",
            "Multiplication: 2162.0\n",
            "Division: 0.9787234042553191\n"
          ]
        }
      ]
    },
    {
      "cell_type": "code",
      "source": [
        "input_sentence = input(\"Enter a sentence: \")\n",
        "\n",
        "modified_sentence = input_sentence.replace('python', 'pythons')\n",
        "\n",
        "print(\"Modified sentence:\", modified_sentence)"
      ],
      "metadata": {
        "colab": {
          "base_uri": "https://localhost:8080/"
        },
        "id": "YIu89CyFj8MZ",
        "outputId": "df566145-65a2-415a-8fd3-104cb3f38a2e"
      },
      "execution_count": 3,
      "outputs": [
        {
          "output_type": "stream",
          "name": "stdout",
          "text": [
            "Enter a sentence: I love playing with python\n",
            "Modified sentence: I love playing with pythons\n"
          ]
        }
      ]
    },
    {
      "cell_type": "code",
      "source": [
        "score = int(input(\"Enter class score\"))\n",
        "if(score>=90):\n",
        "  print(\"A\")\n",
        "elif(score>=80 and score<90):\n",
        "  print(\"B\")\n",
        "elif(score>=70 and score<80):\n",
        "  print(\"C\")\n",
        "elif(score>=60 and score<70):\n",
        "  print(\"D\")\n",
        "else:\n",
        "  print(\"F\")"
      ],
      "metadata": {
        "colab": {
          "base_uri": "https://localhost:8080/"
        },
        "id": "sjyVw7DLkSMa",
        "outputId": "701f5e4e-2f0d-415e-ddaa-ea3d31db87d6"
      },
      "execution_count": 6,
      "outputs": [
        {
          "output_type": "stream",
          "name": "stdout",
          "text": [
            "Enter class score75\n",
            "C\n"
          ]
        }
      ]
    }
  ]
}